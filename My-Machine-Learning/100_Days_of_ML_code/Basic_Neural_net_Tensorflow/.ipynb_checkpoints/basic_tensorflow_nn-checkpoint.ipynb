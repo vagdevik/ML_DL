{
 "cells": [
  {
   "cell_type": "markdown",
   "metadata": {},
   "source": [
    "<h1> Basic Tensorflow Neural Network </h1>"
   ]
  },
  {
   "cell_type": "markdown",
   "metadata": {},
   "source": [
    "<h3> Load the libraries </h3>"
   ]
  },
  {
   "cell_type": "code",
   "execution_count": 1,
   "metadata": {},
   "outputs": [],
   "source": [
    "import numpy as np\n",
    "import tensorflow as tf"
   ]
  },
  {
   "cell_type": "markdown",
   "metadata": {},
   "source": [
    "<h3> Initialize the Parameters </h3>"
   ]
  },
  {
   "cell_type": "code",
   "execution_count": 2,
   "metadata": {},
   "outputs": [],
   "source": [
    "n_features = 3\n",
    "n_classes = 2\n",
    "\n",
    "epochs = 500\n",
    "learning_rate = 0.01\n",
    "hidden_units = 4\n",
    "output_neurons = 1"
   ]
  },
  {
   "cell_type": "markdown",
   "metadata": {},
   "source": [
    "<h3> Declare the tensors </h3>"
   ]
  },
  {
   "cell_type": "code",
   "execution_count": 3,
   "metadata": {},
   "outputs": [],
   "source": [
    "X = tf.placeholder(tf.float32,[None,n_features],name = 'input_layer')\n",
    "y = tf.placeholder(tf.float32,[None,n_classes],name = 'labels')"
   ]
  },
  {
   "cell_type": "markdown",
   "metadata": {},
   "source": [
    "<h3> Initialize Weights and Baises Randomly </h3>"
   ]
  },
  {
   "cell_type": "code",
   "execution_count": 4,
   "metadata": {},
   "outputs": [],
   "source": [
    "W1 = tf.Variable(tf.truncated_normal([n_features,hidden_units],mean = 0,stddev=1 / np.sqrt(n_features)), name='weights1')\n",
    "b1 = tf.Variable(tf.truncated_normal([hidden_units],mean = 0,stddev=1 / np.sqrt(n_features)), name='baises1')\n",
    "W2 = tf.Variable(tf.random_normal([hidden_units, output_neurons],mean=0,stddev=1/np.sqrt(n_features)),name='weights2')\n",
    "b2 = tf.Variable(tf.random_normal([output_neurons],mean=0,stddev=1/np.sqrt(n_features)),name='biases2')"
   ]
  },
  {
   "cell_type": "markdown",
   "metadata": {},
   "source": [
    "<h3> Calculate activations </h3>"
   ]
  },
  {
   "cell_type": "code",
   "execution_count": 5,
   "metadata": {},
   "outputs": [],
   "source": [
    "h1 = tf.nn.tanh((tf.matmul(X, W1)+b1), name='activationLayer1')\n",
    "y_output = tf.nn.softmax((tf.matmul(h1,W2)+b2),name='activationLayer2')"
   ]
  },
  {
   "cell_type": "markdown",
   "metadata": {},
   "source": [
    "<h3> Graph </h3>"
   ]
  },
  {
   "cell_type": "code",
   "execution_count": 10,
   "metadata": {},
   "outputs": [],
   "source": [
    "with tf.Session() as sess:\n",
    "    sess.run(tf.global_variables_initializer()) # always need to initialize the var iables\n",
    "    writer = tf.summary.FileWriter(\"output\", sess.graph)\n",
    "writer.close()"
   ]
  },
  {
   "cell_type": "code",
   "execution_count": null,
   "metadata": {},
   "outputs": [],
   "source": []
  }
 ],
 "metadata": {
  "kernelspec": {
   "display_name": "Python [default]",
   "language": "python",
   "name": "python2"
  },
  "language_info": {
   "codemirror_mode": {
    "name": "ipython",
    "version": 2
   },
   "file_extension": ".py",
   "mimetype": "text/x-python",
   "name": "python",
   "nbconvert_exporter": "python",
   "pygments_lexer": "ipython2",
   "version": "2.7.15"
  }
 },
 "nbformat": 4,
 "nbformat_minor": 2
}
