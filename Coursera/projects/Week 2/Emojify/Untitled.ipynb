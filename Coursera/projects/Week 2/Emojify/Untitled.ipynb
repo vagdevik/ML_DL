{
 "cells": [
  {
   "cell_type": "code",
   "execution_count": 1,
   "metadata": {
    "scrolled": true
   },
   "outputs": [
    {
     "name": "stdout",
     "output_type": "stream",
     "text": [
      "Emojify - learners.ipynb\n",
      "Emojify - v1.ipynb\n",
      "Emojify - v2.ipynb\n",
      "Untitled.ipynb\n",
      "__pycache__/\n",
      "__pycache__/emo_utils.cpython-36.pyc\n",
      "data/\n",
      "data/glove.6B.50d.txt\n",
      "data/testing.csv\n",
      "data/tesss.csv\n",
      "data/tes.csv\n",
      "data/emojify_data.csv\n",
      "data/tess.csv\n",
      "data/test_emoji.csv\n",
      "data/train_emoji.csv\n",
      "emo_utils.py\n",
      "images/\n",
      "images/data_set.png\n",
      "images/emo_model.png\n",
      "images/emb_kiank.png\n",
      "images/emojifierv1.png\n",
      "images/emojifier-v2.png\n",
      "images/dataset_kiank.png\n",
      "images/image_1.png\n",
      "images/emojify_model.png\n",
      "images/emojiss.png\n",
      "images/woebot.png\n",
      "images/embedding1.png\n"
     ]
    }
   ],
   "source": [
    "!tar cvfz allfiles.tar.gz *"
   ]
  },
  {
   "cell_type": "code",
   "execution_count": null,
   "metadata": {
    "collapsed": true
   },
   "outputs": [],
   "source": []
  }
 ],
 "metadata": {
  "kernelspec": {
   "display_name": "Python 3",
   "language": "python",
   "name": "python3"
  },
  "language_info": {
   "codemirror_mode": {
    "name": "ipython",
    "version": 3
   },
   "file_extension": ".py",
   "mimetype": "text/x-python",
   "name": "python",
   "nbconvert_exporter": "python",
   "pygments_lexer": "ipython3",
   "version": "3.6.0"
  }
 },
 "nbformat": 4,
 "nbformat_minor": 2
}
